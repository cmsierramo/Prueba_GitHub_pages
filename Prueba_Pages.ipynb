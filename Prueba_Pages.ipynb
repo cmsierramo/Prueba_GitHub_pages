{
  "nbformat": 4,
  "nbformat_minor": 0,
  "metadata": {
    "colab": {
      "name": "Prueba_Pages.ipynb",
      "provenance": [],
      "collapsed_sections": []
    },
    "kernelspec": {
      "name": "python3",
      "display_name": "Python 3"
    }
  },
  "cells": [
    {
      "cell_type": "code",
      "metadata": {
        "id": "BfvLKyZ0e7-Q",
        "colab_type": "code",
        "colab": {}
      },
      "source": [
        "##\n",
        "## Preparación\n",
        "##\n",
        "import pandas as pd\n",
        "import numpy as np\n",
        "import matplotlib \n",
        "import matplotlib.pyplot as plt\n",
        "%matplotlib inline"
      ],
      "execution_count": 1,
      "outputs": []
    },
    {
      "cell_type": "code",
      "metadata": {
        "id": "i1EAvGYhff4Q",
        "colab_type": "code",
        "colab": {}
      },
      "source": [
        "## Se lee el archivo de datos\n",
        "df = pd.read_csv('data/scopus.csv')\n",
        "\n",
        "## se imprimen los nombres de las columnas para verificar\n",
        "df.columns"
      ],
      "execution_count": null,
      "outputs": []
    },
    {
      "cell_type": "code",
      "metadata": {
        "id": "-WZDlzyStjbM",
        "colab_type": "code",
        "colab": {}
      },
      "source": [
        "##\n",
        "## La columna 'Cited by' tiene registros con NaN. Estos valores se \n",
        "## convierten a 0\n",
        "##\n",
        "df['Cited by'] = df['Cited by'].map(lambda x: 0 if np.isnan(x) else x)"
      ],
      "execution_count": null,
      "outputs": []
    },
    {
      "cell_type": "code",
      "metadata": {
        "id": "Ii5G1Z5jtn0U",
        "colab_type": "code",
        "colab": {}
      },
      "source": [
        "##\n",
        "## Se ordena por las citas y luego se extraen los campos de interés.\n",
        "##\n",
        "most_cited = (df.sort_values(by=['Cited by'], ascending=False))[['Authors', 'Title', 'Year', 'Cited by']]\n",
        "\n",
        "##\n",
        "## Se limita el DataFrame a los 10 primeros registros.\n",
        "##\n",
        "most_cited = most_cited[0:10]\n",
        "\n",
        "##\n",
        "## Se construye una lista de strings con la información\n",
        "## bibliográfica de interés\n",
        "##\n",
        "table = []\n",
        "for a,b,c,d in most_cited.values.tolist():\n",
        "    table += [a + b + ';' + str(c) + ',' + str(int(d))]\n",
        "most_cited = table\n",
        "\n",
        "##\n",
        "## Se imprimen para verificar\n",
        "##\n",
        "most_cited"
      ],
      "execution_count": null,
      "outputs": []
    },
    {
      "cell_type": "code",
      "metadata": {
        "id": "E41Jx758tpyU",
        "colab_type": "code",
        "colab": {}
      },
      "source": [
        "count = df.groupby('Year')['Authors'].agg(['count'])\n",
        "count"
      ],
      "execution_count": null,
      "outputs": []
    },
    {
      "cell_type": "code",
      "metadata": {
        "id": "8wJ3U88Ets5D",
        "colab_type": "code",
        "colab": {}
      },
      "source": [
        "##\n",
        "## Se genera el gráfico y se salva en la carpeta docs\n",
        "##\n",
        "count.plot.bar();\n",
        "plt.savefig('docs/numbyyear.png')"
      ],
      "execution_count": null,
      "outputs": []
    },
    {
      "cell_type": "code",
      "metadata": {
        "id": "p0Fh3JFHuYC0",
        "colab_type": "code",
        "colab": {}
      },
      "source": [
        "!cat templates/index.html"
      ],
      "execution_count": null,
      "outputs": []
    },
    {
      "cell_type": "code",
      "metadata": {
        "id": "XBMA0tINuZDs",
        "colab_type": "code",
        "colab": {}
      },
      "source": [
        "from jinja2 import Template\n",
        "\n",
        "##\n",
        "## Carga el template almacenado como una cadena de texto\n",
        "##\n",
        "template = Template(open('templates/index.html', 'rt').read())\n",
        "\n",
        "##\n",
        "## Genera el archivo index.html pasando en la variable articles \n",
        "## de la plantilla, el conteido de la variable most_cited\n",
        "##\n",
        "open(\"docs/index.html\",\"w\").write( template.render(articles = most_cited))"
      ],
      "execution_count": null,
      "outputs": []
    }
  ]
}