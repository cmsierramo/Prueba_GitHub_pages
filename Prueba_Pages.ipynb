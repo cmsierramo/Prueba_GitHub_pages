{
  "nbformat": 4,
  "nbformat_minor": 0,
  "metadata": {
    "colab": {
      "name": "Prueba_Pages.ipynb",
      "provenance": [],
      "collapsed_sections": []
    },
    "kernelspec": {
      "name": "python3",
      "display_name": "Python 3"
    }
  },
  "cells": [
    {
      "cell_type": "code",
      "metadata": {
        "id": "BfvLKyZ0e7-Q",
        "colab_type": "code",
        "colab": {}
      },
      "source": [
        "##\n",
        "## Preparación\n",
        "##\n",
        "import pandas as pd\n",
        "import numpy as np\n",
        "import matplotlib \n",
        "import matplotlib.pyplot as plt\n",
        "%matplotlib inline"
      ],
      "execution_count": 14,
      "outputs": []
    },
    {
      "cell_type": "code",
      "metadata": {
        "id": "i1EAvGYhff4Q",
        "colab_type": "code",
        "colab": {
          "base_uri": "https://localhost:8080/",
          "height": 102
        },
        "outputId": "9aa06199-ea07-4974-96d6-dbeff21f2c73"
      },
      "source": [
        "## Se lee el archivo de datos\n",
        "df = pd.read_csv('data/scopus.csv')\n",
        "\n",
        "## se imprimen los nombres de las columnas para verificar\n",
        "df.columns"
      ],
      "execution_count": 15,
      "outputs": [
        {
          "output_type": "execute_result",
          "data": {
            "text/plain": [
              "Index(['Authors', 'Author(s) ID', 'Title', 'Year', 'Source title', 'Volume',\n",
              "       'Issue', 'Art. No.', 'Page start', 'Page end', 'Page count', 'Cited by',\n",
              "       'DOI', 'Link', 'Document Type', 'Publication Stage', 'Access Type',\n",
              "       'Source', 'EID'],\n",
              "      dtype='object')"
            ]
          },
          "metadata": {
            "tags": []
          },
          "execution_count": 15
        }
      ]
    },
    {
      "cell_type": "code",
      "metadata": {
        "id": "-WZDlzyStjbM",
        "colab_type": "code",
        "colab": {}
      },
      "source": [
        "##\n",
        "## La columna 'Cited by' tiene registros con NaN. Estos valores se \n",
        "## convierten a 0\n",
        "##\n",
        "df['Cited by'] = df['Cited by'].map(lambda x: 0 if np.isnan(x) else x)"
      ],
      "execution_count": 16,
      "outputs": []
    },
    {
      "cell_type": "code",
      "metadata": {
        "id": "Ii5G1Z5jtn0U",
        "colab_type": "code",
        "colab": {
          "base_uri": "https://localhost:8080/",
          "height": 207
        },
        "outputId": "36a082b1-c6fb-4f02-bfb3-bff93c62ec49"
      },
      "source": [
        "##\n",
        "## Se ordena por las citas y luego se extraen los campos de interés.\n",
        "##\n",
        "most_cited = (df.sort_values(by=['Cited by'], ascending=False))[['Authors', 'Title', 'Year', 'Cited by']]\n",
        "\n",
        "##\n",
        "## Se limita el DataFrame a los 10 primeros registros.\n",
        "##\n",
        "most_cited = most_cited[0:10]\n",
        "\n",
        "##\n",
        "## Se construye una lista de strings con la información\n",
        "## bibliográfica de interés\n",
        "##\n",
        "table = []\n",
        "for a,b,c,d in most_cited.values.tolist():\n",
        "    table += [a + b + ';' + str(c) + ',' + str(int(d))]\n",
        "most_cited = table\n",
        "\n",
        "##\n",
        "## Se imprimen para verificar\n",
        "##\n",
        "most_cited"
      ],
      "execution_count": 17,
      "outputs": [
        {
          "output_type": "execute_result",
          "data": {
            "text/plain": [
              "['Ayala, G., Agudelo, A., Vargas, R.Effect of glycerol on the electrical properties and phase behavior of cassava starch biopolymers [Efecto del glicerol sobre las propiedades eléctricas y comportamiento de fase en biopolímeros de almidón de yuca];2012,27',\n",
              " 'Cabral, P., Zamyatin, A.Markov processes in modeling land use and land cover changes in Sintra-Cascais, Portugal [Procesos de markov en la modelización de alteraciones del uso e ocupación del suelo en Sintra-Cascais, Portugal];2009,24',\n",
              " 'Rojas, D., Cipriano, A.Model based predictive control of a rougher flotation circuit considering grade estimation in intermediate cells [Control predictivo de un circuito de flotación rougher considerando estimación de leyes en celdas intermedias];2011,22',\n",
              " 'Alcocer, W., Vela, L., Blanco, A., Gonzalez, J., Oliver, M.Major trends in the development of ankle rehabilitation devices [Principales tendencias en el desarrollo de dispositivos de rehabilitacion para tobillo];2012,21',\n",
              " 'Parra, E.R., Arango, P.J.A., Palacio, V.J.B.XPS structure analysis of TiN/TiC bilayers produced by pulsed vacuum arc discharge [Análisis estructural de bicapas de TiN/TiC producidas por descargas pulsadas por arco en vacío];2010,17',\n",
              " 'Montoya, F.G., Manzano-Agugliaro, F., López, J.G., Alguacil, P.S.Power quality research techniques: Advantages and disadvantages [Técnicas de Investigación en Calidad Eléctrica: Ventajas e Inconvenientes];2012,17',\n",
              " 'González-Feliu, J., Cedillo-Campo, M.G., García-Alcaraz, J.L.An emission model as an alternative to O-D matrix in urban goods transport modeling [Un modelo de emisión como una alternativa a la generación de matrices O-D para modelar el transporte urbano de carga];2014,17',\n",
              " 'Jiménez, A.R., Diazgranados, J.A., AMorantes, M.T.A.Electricity generation and wind potential assessment in regions of Colombia [Generación eléctrica y evaluación del potencial de energía eólica en regiones de Colombia];2012,17',\n",
              " 'Pozo-Antonio, S., Puente-Luna, I., Lagüela-López, S., Veiga-Ríos, M.Techniques to correct and prevent acid mine drainage: A review [Técnicas correctoras y preventivas de las aguas ácidas de mina: Una revision];2014,16',\n",
              " 'Avelar-Sosa, L., García-Alcaraz, J.L., Cedillo-Campos, M.G., Adarme-Jaimes, W.Effects of regional infrastructure and offered services in the supply chains performance: Case ciudad Juarez [Efectos de la infraestructura regional y los servicios en el desempeño de la cadena de suministro: Caso ciudad juárez];2014,16']"
            ]
          },
          "metadata": {
            "tags": []
          },
          "execution_count": 17
        }
      ]
    },
    {
      "cell_type": "code",
      "metadata": {
        "id": "E41Jx758tpyU",
        "colab_type": "code",
        "colab": {
          "base_uri": "https://localhost:8080/",
          "height": 421
        },
        "outputId": "9325dc42-8d92-473e-e115-d0a16f7ebeaf"
      },
      "source": [
        "count = df.groupby('Year')['Authors'].agg(['count'])\n",
        "count"
      ],
      "execution_count": 18,
      "outputs": [
        {
          "output_type": "execute_result",
          "data": {
            "text/html": [
              "<div>\n",
              "<style scoped>\n",
              "    .dataframe tbody tr th:only-of-type {\n",
              "        vertical-align: middle;\n",
              "    }\n",
              "\n",
              "    .dataframe tbody tr th {\n",
              "        vertical-align: top;\n",
              "    }\n",
              "\n",
              "    .dataframe thead th {\n",
              "        text-align: right;\n",
              "    }\n",
              "</style>\n",
              "<table border=\"1\" class=\"dataframe\">\n",
              "  <thead>\n",
              "    <tr style=\"text-align: right;\">\n",
              "      <th></th>\n",
              "      <th>count</th>\n",
              "    </tr>\n",
              "    <tr>\n",
              "      <th>Year</th>\n",
              "      <th></th>\n",
              "    </tr>\n",
              "  </thead>\n",
              "  <tbody>\n",
              "    <tr>\n",
              "      <th>2008</th>\n",
              "      <td>67</td>\n",
              "    </tr>\n",
              "    <tr>\n",
              "      <th>2009</th>\n",
              "      <td>106</td>\n",
              "    </tr>\n",
              "    <tr>\n",
              "      <th>2010</th>\n",
              "      <td>112</td>\n",
              "    </tr>\n",
              "    <tr>\n",
              "      <th>2011</th>\n",
              "      <td>143</td>\n",
              "    </tr>\n",
              "    <tr>\n",
              "      <th>2012</th>\n",
              "      <td>164</td>\n",
              "    </tr>\n",
              "    <tr>\n",
              "      <th>2013</th>\n",
              "      <td>131</td>\n",
              "    </tr>\n",
              "    <tr>\n",
              "      <th>2014</th>\n",
              "      <td>197</td>\n",
              "    </tr>\n",
              "    <tr>\n",
              "      <th>2015</th>\n",
              "      <td>184</td>\n",
              "    </tr>\n",
              "    <tr>\n",
              "      <th>2016</th>\n",
              "      <td>151</td>\n",
              "    </tr>\n",
              "    <tr>\n",
              "      <th>2017</th>\n",
              "      <td>159</td>\n",
              "    </tr>\n",
              "    <tr>\n",
              "      <th>2018</th>\n",
              "      <td>176</td>\n",
              "    </tr>\n",
              "  </tbody>\n",
              "</table>\n",
              "</div>"
            ],
            "text/plain": [
              "      count\n",
              "Year       \n",
              "2008     67\n",
              "2009    106\n",
              "2010    112\n",
              "2011    143\n",
              "2012    164\n",
              "2013    131\n",
              "2014    197\n",
              "2015    184\n",
              "2016    151\n",
              "2017    159\n",
              "2018    176"
            ]
          },
          "metadata": {
            "tags": []
          },
          "execution_count": 18
        }
      ]
    },
    {
      "cell_type": "code",
      "metadata": {
        "id": "8wJ3U88Ets5D",
        "colab_type": "code",
        "colab": {
          "base_uri": "https://localhost:8080/",
          "height": 295
        },
        "outputId": "ff9394b6-b5ef-43d6-e345-f9f38764dbe9"
      },
      "source": [
        "##\n",
        "## Se genera el gráfico y se salva en la carpeta docs\n",
        "##\n",
        "count.plot.bar();\n",
        "plt.savefig('docs/numbyyear.png')"
      ],
      "execution_count": 19,
      "outputs": [
        {
          "output_type": "display_data",
          "data": {
            "image/png": "[encoded data removed]",
            "text/plain": [
              "<Figure size 432x288 with 1 Axes>"
            ]
          },
          "metadata": {
            "tags": [],
            "needs_background": "light"
          }
        }
      ]
    },
    {
      "cell_type": "code",
      "metadata": {
        "id": "m3HXF66-3c7D",
        "colab_type": "code",
        "colab": {}
      },
      "source": [
        "#from google.colab import drive\n",
        "#drive.mount('/content/drive')"
      ],
      "execution_count": null,
      "outputs": []
    },
    {
      "cell_type": "code",
      "metadata": {
        "id": "p0Fh3JFHuYC0",
        "colab_type": "code",
        "colab": {
          "base_uri": "https://localhost:8080/",
          "height": 595
        },
        "outputId": "88b9298b-395d-43e5-d50b-b6019c0d97d8"
      },
      "source": [
        "!cat templates/index.html"
      ],
      "execution_count": 25,
      "outputs": [
        {
          "output_type": "stream",
          "text": [
            "<!DOCTYPE html>\r\n",
            "<html>\r\n",
            "<head>\r\n",
            "   <title>Ejemplo de un Dashboard</title>\r\n",
            "</head>\r\n",
            "<body>\r\n",
            "\r\n",
            "    <center>\r\n",
            "        <h1>Analisis de las publicaciones de la revista Dyna-Colombia</h1>\r\n",
            "    </center>\r\n",
            "    \r\n",
            "\r\n",
            "    <p>Esta es una demostaacion de la creacion de un Dashboard estatico en GitHub Pages</p>\r\n",
            "\r\n",
            "    <h2>Cantidad de articulos publicados por ano</h2>\r\n",
            "  \r\n",
            "    <center>\r\n",
            "        <img src=\"numbyyear.png\">\r\n",
            "    </center>\r\n",
            "    \r\n",
            "    \r\n",
            "\r\n",
            "    <h2>Articulos mas citados</h2>\r\n",
            "\r\n",
            "    <ul>\r\n",
            "        {% for i in articles %}\r\n",
            "        <li> {{ i }} </li>\r\n",
            "        {% endfor %}\r\n",
            "    </ul>\r\n",
            "\r\n",
            "\r\n",
            "\r\n",
            "</body>\r\n",
            "</html>"
          ],
          "name": "stdout"
        }
      ]
    },
    {
      "cell_type": "code",
      "metadata": {
        "id": "XBMA0tINuZDs",
        "colab_type": "code",
        "colab": {
          "base_uri": "https://localhost:8080/",
          "height": 34
        },
        "outputId": "c2803068-d9bf-4503-a94d-08c839002d32"
      },
      "source": [
        "from jinja2 import Template\n",
        "\n",
        "##\n",
        "## Carga el template almacenado como una cadena de texto\n",
        "##\n",
        "template = Template(open('templates/index.html', 'rt').read())\n",
        "\n",
        "##\n",
        "## Genera el archivo index.html pasando en la variable articles \n",
        "## de la plantilla, el conteido de la variable most_cited\n",
        "##\n",
        "open(\"docs/index.html\",\"w\").write( template.render(articles = most_cited))"
      ],
      "execution_count": 26,
      "outputs": [
        {
          "output_type": "execute_result",
          "data": {
            "text/plain": [
              "3223"
            ]
          },
          "metadata": {
            "tags": []
          },
          "execution_count": 26
        }
      ]
    }
  ]
}